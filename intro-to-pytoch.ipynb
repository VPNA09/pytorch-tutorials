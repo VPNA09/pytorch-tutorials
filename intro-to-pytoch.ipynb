{
 "cells": [
  {
   "cell_type": "markdown",
   "metadata": {
    "toc": true
   },
   "source": [
    "<h1>Table of Contents<span class=\"tocSkip\"></span></h1>\n",
    "<div class=\"toc\" style=\"margin-top: 1em;\"><ul class=\"toc-item\"><li><span><a href=\"#Intro-to-Pytorch\" data-toc-modified-id=\"Intro-to-Pytorch-1\"><span class=\"toc-item-num\">1&nbsp;&nbsp;</span>Intro to Pytorch</a></span><ul class=\"toc-item\"><li><span><a href=\"#Pytorch-tensors\" data-toc-modified-id=\"Pytorch-tensors-1.1\"><span class=\"toc-item-num\">1.1&nbsp;&nbsp;</span>Pytorch tensors</a></span></li><li><span><a href=\"#Pytorch-Autograd\" data-toc-modified-id=\"Pytorch-Autograd-1.2\"><span class=\"toc-item-num\">1.2&nbsp;&nbsp;</span>Pytorch Autograd</a></span></li><li><span><a href=\"#torch.nn-module\" data-toc-modified-id=\"torch.nn-module-1.3\"><span class=\"toc-item-num\">1.3&nbsp;&nbsp;</span>torch.nn module</a></span></li></ul></li><li><span><a href=\"#Linear-Regression-with-Pytorch\" data-toc-modified-id=\"Linear-Regression-with-Pytorch-2\"><span class=\"toc-item-num\">2&nbsp;&nbsp;</span>Linear Regression with Pytorch</a></span><ul class=\"toc-item\"><li><span><a href=\"#Gradient-Descent-with-Pytorch\" data-toc-modified-id=\"Gradient-Descent-with-Pytorch-2.1\"><span class=\"toc-item-num\">2.1&nbsp;&nbsp;</span>Gradient Descent with Pytorch</a></span></li><li><span><a href=\"#Simplified-GD-Loop\" data-toc-modified-id=\"Simplified-GD-Loop-2.2\"><span class=\"toc-item-num\">2.2&nbsp;&nbsp;</span>Simplified GD Loop</a></span></li></ul></li><li><span><a href=\"#Logistic-Regression\" data-toc-modified-id=\"Logistic-Regression-3\"><span class=\"toc-item-num\">3&nbsp;&nbsp;</span>Logistic Regression</a></span></li><li><span><a href=\"#Data-loaders-for-SGD\" data-toc-modified-id=\"Data-loaders-for-SGD-4\"><span class=\"toc-item-num\">4&nbsp;&nbsp;</span>Data loaders for SGD</a></span></li><li><span><a href=\"#Two-layer-neural-network\" data-toc-modified-id=\"Two-layer-neural-network-5\"><span class=\"toc-item-num\">5&nbsp;&nbsp;</span>Two layer neural network</a></span></li><li><span><a href=\"#References\" data-toc-modified-id=\"References-6\"><span class=\"toc-item-num\">6&nbsp;&nbsp;</span>References</a></span></li></ul></div>"
   ]
  },
  {
   "cell_type": "code",
   "execution_count": 1,
   "metadata": {},
   "outputs": [],
   "source": [
    "# import pytorch libraries\n",
    "%matplotlib inline\n",
    "import torch \n",
    "import torch.autograd as autograd \n",
    "import torch.nn as nn \n",
    "import torch.nn.functional as F\n",
    "import torch.optim as optim\n",
    "import numpy as np"
   ]
  },
  {
   "cell_type": "markdown",
   "metadata": {},
   "source": [
    "# Intro to Pytorch"
   ]
  },
  {
   "cell_type": "markdown",
   "metadata": {},
   "source": [
    "PyTorch consists of 4 main packages:\n",
    "* torch: a general purpose array library similar to Numpy that can do computations on GPU\n",
    "* torch.autograd: a package for automatically obtaining gradients\n",
    "* torch.nn: a neural net library with common layers and cost functions\n",
    "* torch.optim: an optimization package with common optimization algorithms like SGD, Adam, etc"
   ]
  },
  {
   "cell_type": "markdown",
   "metadata": {},
   "source": [
    "## Pytorch tensors\n",
    "Like Numpy tensors but can utilize GPUs to accelerate its numerical computations. "
   ]
  },
  {
   "cell_type": "code",
   "execution_count": 2,
   "metadata": {},
   "outputs": [],
   "source": [
    "# Create random tensor\n",
    "N = 5\n",
    "x = torch.randn(N, 10).type(torch.FloatTensor)"
   ]
  },
  {
   "cell_type": "code",
   "execution_count": 3,
   "metadata": {},
   "outputs": [
    {
     "data": {
      "text/plain": [
       "tensor([[ 0.7836,  0.1286, -0.3723,  0.3401, -0.7903,  0.9806, -0.1599,\n",
       "          0.7887, -1.2521,  1.7523],\n",
       "        [-0.2669,  1.4608,  0.5690, -0.4643,  1.1715,  1.2559, -0.4900,\n",
       "          1.3296, -1.1103,  0.0469],\n",
       "        [ 1.8870,  0.1098, -0.8548, -0.0650,  0.6891, -1.9175, -0.2944,\n",
       "         -0.3306,  0.0599, -0.2356],\n",
       "        [ 0.8891,  0.2089,  1.6156, -2.3609,  1.7034,  0.6166,  0.8656,\n",
       "         -0.6636, -0.5181, -0.8127],\n",
       "        [ 1.3737, -0.2764,  0.7838, -1.4493,  2.3580,  0.9937, -0.5894,\n",
       "          0.0817, -1.4806,  0.3099]])"
      ]
     },
     "execution_count": 3,
     "metadata": {},
     "output_type": "execute_result"
    }
   ],
   "source": [
    "x"
   ]
  },
  {
   "cell_type": "code",
   "execution_count": 4,
   "metadata": {},
   "outputs": [
    {
     "data": {
      "text/plain": [
       "tensor([[ 0.7836,  0.1286, -0.3723,  0.3401, -0.7903,  0.9806, -0.1599,\n",
       "          0.7887, -1.2521,  1.7523, -0.2669,  1.4608,  0.5690, -0.4643,\n",
       "          1.1715,  1.2559, -0.4900,  1.3296, -1.1103,  0.0469,  1.8870,\n",
       "          0.1098, -0.8548, -0.0650,  0.6891, -1.9175, -0.2944, -0.3306,\n",
       "          0.0599, -0.2356,  0.8891,  0.2089,  1.6156, -2.3609,  1.7034,\n",
       "          0.6166,  0.8656, -0.6636, -0.5181, -0.8127,  1.3737, -0.2764,\n",
       "          0.7838, -1.4493,  2.3580,  0.9937, -0.5894,  0.0817, -1.4806,\n",
       "          0.3099]])"
      ]
     },
     "execution_count": 4,
     "metadata": {},
     "output_type": "execute_result"
    }
   ],
   "source": [
    "# reshaping of tensors using .view()\n",
    "x.view(1,-1) #-1 makes torch infer the second dim"
   ]
  },
  {
   "cell_type": "markdown",
   "metadata": {},
   "source": [
    "## Pytorch Autograd\n",
    "The autograd package in PyTorch provides classes and functions implementing automatic differentiation of arbitrary scalar valued function. For example, the gradient of the error with respect to all parameters.\n",
    "\n",
    "In order for this to happen we need to declare our paramerers as Tensors with the requires_grad=True keyword. Here is an example:"
   ]
  },
  {
   "cell_type": "code",
   "execution_count": 5,
   "metadata": {},
   "outputs": [],
   "source": [
    "x = torch.tensor([1., 2., 3., 4., 5., 6.], requires_grad=True)"
   ]
  },
  {
   "cell_type": "code",
   "execution_count": 6,
   "metadata": {},
   "outputs": [],
   "source": [
    "x.grad"
   ]
  },
  {
   "cell_type": "code",
   "execution_count": 7,
   "metadata": {},
   "outputs": [
    {
     "data": {
      "text/plain": [
       "tensor(48.)"
      ]
     },
     "execution_count": 7,
     "metadata": {},
     "output_type": "execute_result"
    }
   ],
   "source": [
    "L = (2*x+1).sum()\n",
    "L"
   ]
  },
  {
   "cell_type": "code",
   "execution_count": 8,
   "metadata": {},
   "outputs": [],
   "source": [
    "L.backward() # computes the grad of L with respect to x"
   ]
  },
  {
   "cell_type": "code",
   "execution_count": 9,
   "metadata": {},
   "outputs": [
    {
     "data": {
      "text/plain": [
       "tensor([ 2.,  2.,  2.,  2.,  2.,  2.])"
      ]
     },
     "execution_count": 9,
     "metadata": {},
     "output_type": "execute_result"
    }
   ],
   "source": [
    "x.grad"
   ]
  },
  {
   "cell_type": "markdown",
   "metadata": {},
   "source": [
    "## torch.nn module\n",
    "A neural net library with common layers and cost functions"
   ]
  },
  {
   "cell_type": "code",
   "execution_count": 10,
   "metadata": {},
   "outputs": [],
   "source": [
    "# linear transformation of a Nx5 matrix into a Nx3 matrix, where N can be anything \n",
    "# (number of observations)\n",
    "D = 5 # number of input featutes\n",
    "M = 3 # neurons in the first hidden layer\n",
    "linear_map = nn.Linear(D, M)"
   ]
  },
  {
   "cell_type": "code",
   "execution_count": 11,
   "metadata": {},
   "outputs": [
    {
     "data": {
      "text/plain": [
       "[Parameter containing:\n",
       " tensor([[-0.4268,  0.2973,  0.2917,  0.2206,  0.3775],\n",
       "         [ 0.0662, -0.2732,  0.4434,  0.1911, -0.3356],\n",
       "         [-0.2029,  0.2578,  0.0076, -0.2262, -0.3851]]), Parameter containing:\n",
       " tensor([-0.4033,  0.0454,  0.1460])]"
      ]
     },
     "execution_count": 11,
     "metadata": {},
     "output_type": "execute_result"
    }
   ],
   "source": [
    "# parameters are initialized randomly\n",
    "[p for p in linear_map.parameters()]"
   ]
  },
  {
   "cell_type": "markdown",
   "metadata": {},
   "source": [
    "#  Linear Regression with Pytorch"
   ]
  },
  {
   "cell_type": "markdown",
   "metadata": {},
   "source": [
    "The goal of linear regression is to fit a line to a set of points."
   ]
  },
  {
   "cell_type": "code",
   "execution_count": 12,
   "metadata": {},
   "outputs": [],
   "source": [
    "# Here we generate some fake data\n",
    "def lin(a,b,x): return a*x+b\n",
    "\n",
    "def gen_fake_data(n, a, b):\n",
    "    x = np.random.uniform(0,1,n) \n",
    "    y = lin(a,b,x) + 0.1 * np.random.normal(0,3,n)\n",
    "    return x, y\n",
    "\n",
    "x, y = gen_fake_data(50, 3., 8.)"
   ]
  },
  {
   "cell_type": "code",
   "execution_count": 13,
   "metadata": {},
   "outputs": [
    {
     "data": {
      "image/png": "[encoded data removed]",
      "text/plain": [
       "<Figure size 432x288 with 1 Axes>"
      ]
     },
     "metadata": {},
     "output_type": "display_data"
    }
   ],
   "source": [
    "import matplotlib.pyplot as plt\n",
    "plt.scatter(x,y, s=8); plt.xlabel(\"x\"); plt.ylabel(\"y\"); "
   ]
  },
  {
   "cell_type": "markdown",
   "metadata": {},
   "source": [
    "You want to find **parameters** (weights) $a$ and $b$ such that you minimize the *error* between the points and the line $a\\cdot x + b$. Note that here $a$ and $b$ are unknown. For a regression problem the most common *error function* or *loss function* is the **mean squared error**. "
   ]
  },
  {
   "cell_type": "code",
   "execution_count": 14,
   "metadata": {},
   "outputs": [],
   "source": [
    "def mse(y_hat, y): return ((y_hat - y) ** 2).mean()"
   ]
  },
  {
   "cell_type": "markdown",
   "metadata": {},
   "source": [
    "Suppose we believe $a = 10$ and $b = 5$ then we can compute `y_hat` which is our *prediction* and then compute our error."
   ]
  },
  {
   "cell_type": "code",
   "execution_count": 15,
   "metadata": {},
   "outputs": [
    {
     "data": {
      "text/plain": [
       "5.084862377712809"
      ]
     },
     "execution_count": 15,
     "metadata": {},
     "output_type": "execute_result"
    }
   ],
   "source": [
    "y_hat = lin(10,5,x)\n",
    "mse(y_hat, y)"
   ]
  },
  {
   "cell_type": "code",
   "execution_count": 16,
   "metadata": {},
   "outputs": [],
   "source": [
    "def mse_loss(a, b, x, y): return mse(lin(a,b,x), y)"
   ]
  },
  {
   "cell_type": "code",
   "execution_count": 17,
   "metadata": {},
   "outputs": [
    {
     "data": {
      "text/plain": [
       "5.084862377712809"
      ]
     },
     "execution_count": 17,
     "metadata": {},
     "output_type": "execute_result"
    }
   ],
   "source": [
    "mse_loss(10, 5, x, y)"
   ]
  },
  {
   "cell_type": "markdown",
   "metadata": {},
   "source": [
    "So far we have specified the *model* (linear regression) and the *evaluation criteria* (or *loss function*). Now we need to handle *optimization*; that is, how do we find the best values for $a$ and $b$? How do we find the best *fitting* linear regression."
   ]
  },
  {
   "cell_type": "markdown",
   "metadata": {},
   "source": [
    "## Gradient Descent with Pytorch"
   ]
  },
  {
   "cell_type": "markdown",
   "metadata": {},
   "source": [
    "For a fixed dataset $x$ and $y$ `mse_loss(a,b)` is a function of $a$ and $b$. We would like to find the values of $a$ and $b$ that minimize that function.\n",
    "\n",
    "**Gradient descent** is an algorithm that minimizes functions. Given a function defined by a set of parameters, gradient descent starts with an initial set of parameter values and iteratively moves toward a set of parameter values that minimize the function. This iterative minimization is achieved by taking steps in the negative direction of the function gradient.\n",
    "\n",
    "Here is gradient descent implemented in [PyTorch](http://pytorch.org/)."
   ]
  },
  {
   "cell_type": "code",
   "execution_count": 18,
   "metadata": {},
   "outputs": [
    {
     "data": {
      "text/plain": [
       "((10000,), (10000,))"
      ]
     },
     "execution_count": 18,
     "metadata": {},
     "output_type": "execute_result"
    }
   ],
   "source": [
    "# generate some more data\n",
    "x, y = gen_fake_data(10000, 3., 8.)\n",
    "x.shape, y.shape"
   ]
  },
  {
   "cell_type": "code",
   "execution_count": 19,
   "metadata": {},
   "outputs": [],
   "source": [
    "# Wrap x and y as tensor \n",
    "x = torch.tensor(x)\n",
    "y = torch.tensor(y)"
   ]
  },
  {
   "cell_type": "code",
   "execution_count": 20,
   "metadata": {},
   "outputs": [
    {
     "data": {
      "text/plain": [
       "(tensor([-1.0715], dtype=torch.float64),\n",
       " tensor([ 1.7678], dtype=torch.float64))"
      ]
     },
     "execution_count": 20,
     "metadata": {},
     "output_type": "execute_result"
    }
   ],
   "source": [
    "# Create random Tensors for weights, and wrap them in tensors.\n",
    "# Setting requires_grad=True indicates that we want to compute gradients with\n",
    "# respect to these tensors during the backward pass.\n",
    "a, b = np.random.randn(1), np.random.randn(1)\n",
    "a = torch.tensor(a, requires_grad=True)\n",
    "b = torch.tensor(b, requires_grad=True)\n",
    "a,b"
   ]
  },
  {
   "cell_type": "code",
   "execution_count": 21,
   "metadata": {},
   "outputs": [
    {
     "name": "stdout",
     "output_type": "stream",
     "text": [
      "69.98541286460251\n",
      "0.5431971019600282\n",
      "0.10980609175195452\n",
      "0.10335542468546764\n",
      "0.10040827283413221\n",
      "0.0981518428508399\n",
      "0.09641478963738281\n",
      "0.09507750625455202\n",
      "0.09404798829773695\n",
      "0.0932554059326211\n"
     ]
    }
   ],
   "source": [
    "learning_rate = 1e-3\n",
    "for t in range(10000):\n",
    "    # Forward pass: compute predicted y using operations on Variables\n",
    "    loss = mse_loss(a,b,x,y)\n",
    "    if t % 1000 == 0: print(loss.item())\n",
    "    \n",
    "    # Computes the gradient of loss with respect to all Variables with requires_grad=True.\n",
    "    # After this call a.grad and b.grad will be Variables holding the gradient\n",
    "    # of the loss with respect to a and b respectively\n",
    "    loss.backward()\n",
    "    \n",
    "    # Update a and b using gradient descent; a.data and b.data are Tensors,\n",
    "    # a.grad and b.grad are Variables and a.grad.data and b.grad.data are Tensors\n",
    "    a.data -= learning_rate * a.grad.data\n",
    "    b.data -= learning_rate * b.grad.data\n",
    "    \n",
    "    # Zero the gradients\n",
    "    a.grad.data.zero_()\n",
    "    b.grad.data.zero_()    "
   ]
  },
  {
   "cell_type": "code",
   "execution_count": 22,
   "metadata": {},
   "outputs": [
    {
     "name": "stdout",
     "output_type": "stream",
     "text": [
      "tensor([ 2.8612], dtype=torch.float64) tensor([ 8.0731], dtype=torch.float64)\n"
     ]
    }
   ],
   "source": [
    "print(a,b)"
   ]
  },
  {
   "cell_type": "markdown",
   "metadata": {},
   "source": [
    "## Simplified GD Loop"
   ]
  },
  {
   "cell_type": "code",
   "execution_count": 23,
   "metadata": {},
   "outputs": [
    {
     "data": {
      "text/plain": [
       "Linear(in_features=1, out_features=1, bias=True)"
      ]
     },
     "execution_count": 23,
     "metadata": {},
     "output_type": "execute_result"
    }
   ],
   "source": [
    "# linear tranformation with input dimension=1 and output dimension=1\n",
    "nn.Linear(1, 1)"
   ]
  },
  {
   "cell_type": "code",
   "execution_count": 24,
   "metadata": {},
   "outputs": [
    {
     "data": {
      "text/plain": [
       "Sequential(\n",
       "  (0): Linear(in_features=1, out_features=1, bias=True)\n",
       ")"
      ]
     },
     "execution_count": 24,
     "metadata": {},
     "output_type": "execute_result"
    }
   ],
   "source": [
    "# simple way of specifying a linear regression model\n",
    "model = torch.nn.Sequential(\n",
    "    nn.Linear(1, 1),\n",
    ")\n",
    "model"
   ]
  },
  {
   "cell_type": "code",
   "execution_count": 25,
   "metadata": {},
   "outputs": [],
   "source": [
    "# equivalent way of specifiying the same model\n",
    "class LinearRegression(nn.Module):\n",
    "    def __init__(self):\n",
    "        super(LinearRegression, self).__init__()\n",
    "        self.lin = nn.Linear(1, 1)\n",
    "        \n",
    "    def forward(self, x):\n",
    "        x = self.lin(x)\n",
    "        return x \n",
    "model =  LinearRegression()"
   ]
  },
  {
   "cell_type": "code",
   "execution_count": 26,
   "metadata": {},
   "outputs": [
    {
     "name": "stdout",
     "output_type": "stream",
     "text": [
      "[Parameter containing:\n",
      "tensor([[-0.6532]]), Parameter containing:\n",
      "tensor([-0.6391])]\n"
     ]
    }
   ],
   "source": [
    "print([p for p in model.parameters()])"
   ]
  },
  {
   "cell_type": "code",
   "execution_count": 27,
   "metadata": {},
   "outputs": [
    {
     "data": {
      "text/plain": [
       "torch.Size([10000])"
      ]
     },
     "execution_count": 27,
     "metadata": {},
     "output_type": "execute_result"
    }
   ],
   "source": [
    "x, y = gen_fake_data(10000, 3., 8.)\n",
    "x = torch.tensor(x).float()\n",
    "y = torch.tensor(y).float()\n",
    "x.shape"
   ]
  },
  {
   "cell_type": "code",
   "execution_count": 28,
   "metadata": {},
   "outputs": [
    {
     "data": {
      "text/plain": [
       "torch.Size([10000, 1])"
      ]
     },
     "execution_count": 28,
     "metadata": {},
     "output_type": "execute_result"
    }
   ],
   "source": [
    "# you have to be careful with the dimensions that your model is expecting\n",
    "x1 = torch.unsqueeze(x, 1)\n",
    "x1.shape"
   ]
  },
  {
   "cell_type": "code",
   "execution_count": 29,
   "metadata": {},
   "outputs": [
    {
     "name": "stdout",
     "output_type": "stream",
     "text": [
      "tensor([[-0.9226],\n",
      "        [-1.0439],\n",
      "        [-0.8288],\n",
      "        ...,\n",
      "        [-1.1327],\n",
      "        [-0.9000],\n",
      "        [-0.6400]])\n"
     ]
    }
   ],
   "source": [
    "y_hat = model(x1)\n",
    "print(y_hat)"
   ]
  },
  {
   "cell_type": "code",
   "execution_count": 30,
   "metadata": {},
   "outputs": [],
   "source": [
    "# Use the optim package to define an Optimizer that will update the weights of\n",
    "# the model for us. Here we will use Adam\n",
    "learning_rate = 0.1\n",
    "optimizer = torch.optim.Adam(model.parameters(), lr=learning_rate)"
   ]
  },
  {
   "cell_type": "code",
   "execution_count": 31,
   "metadata": {},
   "outputs": [
    {
     "name": "stdout",
     "output_type": "stream",
     "text": [
      "110.87785339355469\n",
      "0.09039798378944397\n",
      "0.09035249799489975\n",
      "0.0903523787856102\n",
      "0.09035241603851318\n",
      "0.0903523862361908\n",
      "0.09035234898328781\n",
      "0.09035234898328781\n",
      "0.09035234898328781\n",
      "0.0903523713350296\n"
     ]
    }
   ],
   "source": [
    "for t in range(10000):\n",
    "    # Forward pass: compute predicted y using operations on Variables\n",
    "    y_hat = model(x1)\n",
    "    loss = F.mse_loss(y_hat, y.unsqueeze(1))\n",
    "    if t % 1000 == 0: print(loss.item())\n",
    "       \n",
    "    # Before the backward pass, use the optimizer object to zero all of the\n",
    "    # gradients for the variables\n",
    "    optimizer.zero_grad()\n",
    "    loss.backward()\n",
    "    \n",
    "    # Calling the step function on an Optimizer makes an update to its\n",
    "    # parameters\n",
    "    optimizer.step()"
   ]
  },
  {
   "cell_type": "code",
   "execution_count": 32,
   "metadata": {},
   "outputs": [
    {
     "name": "stdout",
     "output_type": "stream",
     "text": [
      "[Parameter containing:\n",
      "tensor([[ 3.0108]]), Parameter containing:\n",
      "tensor([ 7.9985])]\n"
     ]
    }
   ],
   "source": [
    "print([p for p in model.parameters()])"
   ]
  },
  {
   "cell_type": "markdown",
   "metadata": {},
   "source": [
    "# Logistic Regression"
   ]
  },
  {
   "cell_type": "code",
   "execution_count": 33,
   "metadata": {},
   "outputs": [],
   "source": [
    "# generating fake data\n",
    "# Here we generate some fake data\n",
    "def lin(a,b,x): return a*x+b\n",
    "\n",
    "def gen_logistic_fake_data(n, a, b):\n",
    "    x = np.random.uniform(-20,20, (n, 2))\n",
    "    x2_hat = lin(a,b, x[:,0])\n",
    "    y = x[:,1] > x2_hat\n",
    "    return x, y.astype(int)\n",
    "\n",
    "x, y = gen_logistic_fake_data(100, 1., 0.5)"
   ]
  },
  {
   "cell_type": "code",
   "execution_count": 34,
   "metadata": {},
   "outputs": [
    {
     "data": {
      "text/plain": [
       "array([1, 0, 0, 0, 0, 1, 1, 1, 0, 0, 0, 1, 1, 0, 0, 0, 1, 0, 1, 1, 0, 1,\n",
       "       1, 0, 1, 0, 1, 0, 0, 1, 1, 1, 1, 1, 1, 1, 0, 0, 0, 0, 0, 1, 0, 0,\n",
       "       1, 1, 0, 0, 1, 1, 0, 1, 1, 1, 0, 1, 1, 0, 1, 1, 0, 1, 1, 1, 0, 0,\n",
       "       0, 0, 1, 0, 0, 1, 1, 1, 1, 0, 1, 1, 1, 1, 1, 0, 0, 0, 1, 0, 0, 1,\n",
       "       0, 1, 1, 1, 0, 0, 0, 1, 0, 1, 1, 0])"
      ]
     },
     "execution_count": 34,
     "metadata": {},
     "output_type": "execute_result"
    }
   ],
   "source": [
    "y"
   ]
  },
  {
   "cell_type": "code",
   "execution_count": 35,
   "metadata": {},
   "outputs": [
    {
     "data": {
      "text/plain": [
       "[<matplotlib.lines.Line2D at 0x7f0fe19b26a0>]"
      ]
     },
     "execution_count": 35,
     "metadata": {},
     "output_type": "execute_result"
    },
    {
     "data": {
      "image/png": "[encoded data removed]",
      "text/plain": [
       "<Figure size 432x288 with 1 Axes>"
      ]
     },
     "metadata": {},
     "output_type": "display_data"
    }
   ],
   "source": [
    "t = np.arange(-20, 20, 0.2)\n",
    "import matplotlib.pyplot as plt\n",
    "plt.scatter(x[:,0],x[:,1],c=y, s=8);\n",
    "plt.xlabel(\"x1\"); plt.ylabel(\"x2\");\n",
    "plt.plot(t, t + 0.5, 'r--')"
   ]
  },
  {
   "cell_type": "code",
   "execution_count": 36,
   "metadata": {},
   "outputs": [],
   "source": [
    "x = torch.tensor(x).float()\n",
    "y = torch.tensor(y).float()"
   ]
  },
  {
   "cell_type": "code",
   "execution_count": 37,
   "metadata": {},
   "outputs": [
    {
     "data": {
      "text/plain": [
       "Sequential(\n",
       "  (0): Linear(in_features=2, out_features=1, bias=True)\n",
       ")"
      ]
     },
     "execution_count": 37,
     "metadata": {},
     "output_type": "execute_result"
    }
   ],
   "source": [
    "model = torch.nn.Sequential(\n",
    "    torch.nn.Linear(2, 1),\n",
    ")\n",
    "model"
   ]
  },
  {
   "cell_type": "code",
   "execution_count": 38,
   "metadata": {},
   "outputs": [
    {
     "data": {
      "text/plain": [
       "torch.Size([100, 1])"
      ]
     },
     "execution_count": 38,
     "metadata": {},
     "output_type": "execute_result"
    }
   ],
   "source": [
    "model(x).shape"
   ]
  },
  {
   "cell_type": "code",
   "execution_count": 39,
   "metadata": {},
   "outputs": [],
   "source": [
    "x, y = gen_logistic_fake_data(10000, 1., 0.5)\n",
    "x = torch.tensor(x).float()\n",
    "y = torch.tensor(y).float()"
   ]
  },
  {
   "cell_type": "code",
   "execution_count": 40,
   "metadata": {},
   "outputs": [],
   "source": [
    "learning_rate = 0.1\n",
    "optimizer = torch.optim.Adam(model.parameters(), lr=learning_rate)"
   ]
  },
  {
   "cell_type": "code",
   "execution_count": 41,
   "metadata": {},
   "outputs": [
    {
     "name": "stdout",
     "output_type": "stream",
     "text": [
      "1.1459193229675293\n",
      "0.012726951390504837\n",
      "0.008221643045544624\n",
      "0.006036981008946896\n",
      "0.004647687077522278\n",
      "0.003658534958958626\n",
      "0.0029143388383090496\n",
      "0.0023378939367830753\n",
      "0.001883810036815703\n",
      "0.0015222571091726422\n"
     ]
    }
   ],
   "source": [
    "for t in range(10000):\n",
    "    # Forward pass: compute predicted y using operations on Variables\n",
    "    y_hat = model(x)\n",
    "    loss = F.binary_cross_entropy(F.sigmoid(y_hat), y.unsqueeze(1))\n",
    "    if t % 1000 == 0: print(loss.item())\n",
    "       \n",
    "    # Before the backward pass, use the optimizer object to zero all of the\n",
    "    # gradients for the variables\n",
    "    optimizer.zero_grad()\n",
    "    loss.backward()\n",
    "    \n",
    "    # Calling the step function on an Optimizer makes an update to its\n",
    "    # parameters\n",
    "    optimizer.step()"
   ]
  },
  {
   "cell_type": "code",
   "execution_count": 56,
   "metadata": {},
   "outputs": [
    {
     "name": "stdout",
     "output_type": "stream",
     "text": [
      "[Parameter containing:\n",
      "tensor([[-21.0642,  21.0613]]), Parameter containing:\n",
      "tensor([-10.5433])]\n"
     ]
    }
   ],
   "source": [
    "print([p for p in model.parameters()])"
   ]
  },
  {
   "cell_type": "markdown",
   "metadata": {},
   "source": [
    "# Data loaders for SGD"
   ]
  },
  {
   "cell_type": "markdown",
   "metadata": {},
   "source": [
    "Nearly all of deep learning is powered by one very important algorithm: **stochastic gradient descent (SGD)**. SGD can be seeing as an approximation of **gradient descent** (GD). In GD you have to run through *all* the samples in your training set to do a single itaration. In SGD you use *only one* or *a subset*  of training samples to do the update for a parameter in a particular iteration. The subset use in every iteration is called a **batch** or **minibatch**."
   ]
  },
  {
   "cell_type": "code",
   "execution_count": 43,
   "metadata": {},
   "outputs": [],
   "source": [
    "model2 = torch.nn.Sequential(\n",
    "    torch.nn.Linear(1, 1),\n",
    ")"
   ]
  },
  {
   "cell_type": "code",
   "execution_count": 44,
   "metadata": {},
   "outputs": [],
   "source": [
    "from torch.utils.data import Dataset, DataLoader"
   ]
  },
  {
   "cell_type": "code",
   "execution_count": 45,
   "metadata": {},
   "outputs": [],
   "source": [
    "def lin(a,b,x): return a*x+b\n",
    "\n",
    "def gen_fake_data(n, a, b):\n",
    "    x = np.random.uniform(0,1,n) \n",
    "    y = lin(a,b,x) + 0.1 * np.random.normal(0,3,n)\n",
    "    return x.astype(np.float32), y.astype(np.float32)\n",
    "\n",
    "# create a dataset\n",
    "class RegressionDataset(Dataset):\n",
    "    def __init__(self, a=3, b=8, n=10000):\n",
    "        x, y = gen_fake_data(n, a, b)\n",
    "        x = torch.from_numpy(x).unsqueeze(1)\n",
    "        y = torch.from_numpy(y)\n",
    "        self.x, self.y = x, y\n",
    "    \n",
    "    def __len__(self):\n",
    "        return len(self.y)\n",
    "    \n",
    "    def __getitem__(self, idx):\n",
    "        return self.x[idx], self.y[idx]\n",
    "    \n",
    "fake_dataset = RegressionDataset()"
   ]
  },
  {
   "cell_type": "markdown",
   "metadata": {},
   "source": [
    "Next we are going to create a data loader. The data loader provides the following features:\n",
    "* Batching the data\n",
    "* Shuffling the data\n",
    "* Load the data in parallel using multiprocessing workers."
   ]
  },
  {
   "cell_type": "code",
   "execution_count": 46,
   "metadata": {},
   "outputs": [],
   "source": [
    "dataloader = DataLoader(fake_dataset, batch_size=1000, shuffle=True)\n",
    "x, y = next(iter(dataloader))"
   ]
  },
  {
   "cell_type": "code",
   "execution_count": 47,
   "metadata": {},
   "outputs": [
    {
     "data": {
      "text/plain": [
       "tensor([  9.2937,   8.7105,   8.1453,   9.6734,   9.3689,   8.1686,\n",
       "          8.1314,  10.3185,   9.6696,   9.5001,   7.9191,  10.1610,\n",
       "         10.3852,   9.9300,   8.6003,  10.2293,  10.3629,  10.1365,\n",
       "         10.0056,   9.3900,   8.6438,   9.8908,   8.0813,   8.8129,\n",
       "          8.5866,   9.2148,   9.5098,   8.1229,   9.3414,   9.2655,\n",
       "         10.2202,   8.2577,   9.3095,   8.9790,  11.0387,   8.5661,\n",
       "         10.4747,   8.4867,  10.4444,  10.3230,   8.0451,   9.4509,\n",
       "          8.0732,  10.9902,   7.5716,   8.2501,  10.5573,   8.5459,\n",
       "         10.7380,  11.6468,   9.8352,   9.0605,   8.9956,   9.8999,\n",
       "         10.3030,   8.5674,   9.2433,  10.6563,   9.0517,   9.8751,\n",
       "          7.3728,   8.6472,  10.0344,   8.4281,  10.5041,   9.2224,\n",
       "         10.6811,  10.3473,  10.7898,   8.3861,  11.0115,   8.0833,\n",
       "          9.2809,  10.1141,   8.1373,   9.6004,   9.9908,   8.4939,\n",
       "          8.0207,   9.7213,   8.5870,  10.5924,  10.0927,   9.4832,\n",
       "         10.3874,   8.8080,   8.5170,   8.9209,   8.1864,  10.3278,\n",
       "         10.0670,   8.8415,   8.1080,   8.5893,  10.0831,  10.4503,\n",
       "         10.3271,   9.3169,  10.1757,   8.9248,   9.6727,   9.8568,\n",
       "         10.7033,  10.5778,  10.4524,  10.1706,   8.8038,   8.3420,\n",
       "          8.1183,  10.9069,   8.7254,   8.9379,  10.6057,  10.8687,\n",
       "          8.1782,   9.9808,   9.4747,  10.3913,   9.6555,   7.8532,\n",
       "         10.2903,   9.3363,  10.9433,   9.5353,   8.3744,   9.9074,\n",
       "         10.5073,   9.9387,   9.5887,   7.6594,  10.1144,  10.4773,\n",
       "         10.6049,  10.0074,   9.4607,   9.0838,   8.2179,   9.6425,\n",
       "         10.0937,   9.3480,   8.5468,   9.8286,   9.0786,  10.3598,\n",
       "          9.1217,   9.7636,   8.3289,   8.8590,   9.7839,   8.2214,\n",
       "         10.9579,  10.0207,   8.1587,   7.6885,   8.8584,  10.2228,\n",
       "          8.9677,   9.1446,   8.4285,   9.1190,   8.1085,   8.9928,\n",
       "          9.4383,  10.4641,   9.0784,  10.3076,  10.6821,   8.7887,\n",
       "          9.9314,   9.5105,   7.8978,   8.9815,   9.0418,  10.7466,\n",
       "          7.6072,   7.9204,   8.4330,   9.9289,   8.5510,   8.4442,\n",
       "          8.5211,  10.8642,   9.8985,   8.5448,   9.0444,  10.7312,\n",
       "          9.3871,   9.5273,   8.2283,   8.0424,  10.1543,  10.1017,\n",
       "          9.8274,   9.3713,   9.0373,   9.6115,  10.3193,   9.8810,\n",
       "         10.9389,  10.1254,  10.9642,   9.3367,  10.5118,   8.8436,\n",
       "         10.4212,  11.2886,   7.7392,   9.7418,   9.4739,  10.3266,\n",
       "          9.6398,   8.3894,   9.8434,   8.8159,   8.4558,   9.1511,\n",
       "          8.9273,   8.2055,  10.8246,   9.7630,   9.3766,   8.0425,\n",
       "          9.2845,  10.7049,  10.1397,   9.6701,  10.0022,   9.6644,\n",
       "          9.8502,   8.2160,  10.0759,   8.2939,  10.4147,   9.9628,\n",
       "          8.8982,   8.6679,   9.4094,   7.7436,   9.7222,   8.5774,\n",
       "          9.8635,  11.1955,  10.2118,  10.0042,  10.3892,  10.8567,\n",
       "          8.8875,   8.1270,  10.3639,   9.2683,  10.1309,  10.3644,\n",
       "          9.3571,   9.7141,  11.0070,   8.6277,  10.8836,   8.6779,\n",
       "          8.1663,   9.3841,   8.6529,   8.7924,   8.1979,  10.5321,\n",
       "         10.6927,  10.1988,   9.4680,  10.7530,   8.2989,   9.2865,\n",
       "         10.3616,   9.1966,  10.3441,  10.1908,  11.3937,   8.5965,\n",
       "          9.9953,   8.2500,   9.3133,  10.2446,   9.8268,   8.9793,\n",
       "         10.0743,   9.9123,  10.0148,   9.1899,   9.8349,   9.2937,\n",
       "         11.0931,  10.7078,  10.6283,   8.8430,  10.5282,  10.7146,\n",
       "         10.1063,  10.2020,   7.9112,   9.4711,  10.3230,   9.9737,\n",
       "          9.3590,   9.9488,   9.9470,   9.3861,  10.9375,  10.9884,\n",
       "          9.0133,  10.7542,  11.2662,   9.7013,  11.4086,   8.5200,\n",
       "         10.5328,   9.3817,   9.6941,  10.6230,   8.5225,   9.9731,\n",
       "          7.8719,   8.1070,   8.2868,  10.1369,   9.6837,  10.5422,\n",
       "          8.8928,   8.4397,   8.2674,  10.3565,  10.7097,   8.4637,\n",
       "          8.1072,   9.1932,  10.4362,   8.1847,   9.9780,  10.2406,\n",
       "          8.9234,   9.9005,   8.2458,   9.0409,   9.0354,  10.5032,\n",
       "          9.8257,   8.4335,   9.5604,  10.4537,   9.0616,   9.4540,\n",
       "         10.1185,   9.2114,   8.3136,   8.9693,  10.1501,   9.6638,\n",
       "          7.8961,  10.7569,   9.1608,  10.8273,   9.1348,   8.1489,\n",
       "          9.4498,   8.8486,   9.0510,  10.6425,   8.1225,  10.9224,\n",
       "          9.3130,   9.9296,  10.5596,   7.9385,   8.8418,  10.6765,\n",
       "          8.1250,   9.9788,   9.3345,   9.0172,  10.5857,  10.4500,\n",
       "          9.7628,  10.4043,  10.3148,   8.7858,  10.5345,   9.4804,\n",
       "         10.1760,  10.0132,  10.1107,   8.7766,  11.1397,   9.6527,\n",
       "          8.9894,   9.2979,   9.7675,   8.5255,   8.5339,   9.9627,\n",
       "         10.7781,   8.2446,   9.9442,  10.3526,   9.4576,  10.3161,\n",
       "         10.9043,   9.5446,   9.2962,   9.6329,  10.9156,   8.7476,\n",
       "          8.6365,   9.8118,  10.5332,   8.4438,  10.9767,   9.6655,\n",
       "          8.9265,  10.7869,   9.7310,  10.7554,   8.7205,  11.1025,\n",
       "          9.1765,   9.6629,   8.8517,   9.1287,   8.4053,  10.8212,\n",
       "         10.2561,   8.4357,  10.7727,  11.0434,   8.5401,   9.0149,\n",
       "          8.2254,   9.9582,  11.3358,   9.5750,   8.6918,  10.5930,\n",
       "          9.7869,   8.8870,  10.6902,  10.1520,  10.2194,   8.7123,\n",
       "         10.5895,   8.7318,  11.0472,   9.9486,   9.4888,   9.7106,\n",
       "          9.6134,   9.7413,  11.0052,   9.2919,   9.0887,   8.9189,\n",
       "          9.7143,   9.8089,  11.0460,  11.1833,  10.0447,   8.0462,\n",
       "         10.8512,   9.3015,   8.2878,   9.3644,  10.5880,  10.0699,\n",
       "          9.3454,   8.0903,   7.5604,   8.5028,   9.0555,  10.5232,\n",
       "          9.7701,   8.8800,   9.1984,   8.9097,   8.5055,   8.8181,\n",
       "          9.5670,   8.1110,   8.2693,   9.7735,  10.2840,   9.0030,\n",
       "          7.7886,  10.5686,   9.8829,  10.6885,   8.1440,   7.7066,\n",
       "          8.9033,  11.2696,  10.0796,   9.0461,   9.0384,   8.4893,\n",
       "         10.3455,   8.8469,  10.9069,   8.0174,   8.9593,   9.5469,\n",
       "          8.4315,  10.4966,   9.4751,  10.5399,  10.0407,   8.3474,\n",
       "          8.2724,   9.1154,   9.1641,   8.6730,   9.1079,   8.4496,\n",
       "          8.1925,   9.5573,  10.9249,  10.5762,  10.7241,   9.9160,\n",
       "          9.6455,  10.1288,   9.2727,   9.2924,   8.9942,   9.9212,\n",
       "          9.4300,  10.2810,   9.3375,   8.6287,  10.1661,   9.1272,\n",
       "          8.7430,  10.5943,   9.6921,   9.2272,  10.8653,  10.1462,\n",
       "          9.6299,   7.9456,   8.7541,   9.5470,   8.8264,   9.6580,\n",
       "          8.0141,   9.8832,  10.2661,   8.8924,   9.6136,   9.8440,\n",
       "          8.0077,  10.9938,   9.0038,   9.5110,   8.4282,   9.5809,\n",
       "         11.1206,  10.2237,   7.9267,  10.8453,   8.5767,  10.1652,\n",
       "          9.5117,   9.5864,   9.9384,   8.1777,  10.0041,  10.6198,\n",
       "         10.3334,   9.6297,   9.2487,   9.9950,  11.1914,   9.7419,\n",
       "         10.4855,   8.9661,   8.8658,   8.7961,  11.0613,   8.6211,\n",
       "         10.4066,   9.7897,  10.3711,   9.8671,  10.2958,   8.1074,\n",
       "         11.0327,   8.1466,   8.6035,   8.5079,   9.5091,   8.3880,\n",
       "         10.8826,  11.0380,  10.9201,   8.5690,  10.5117,   9.1719,\n",
       "         10.1049,  10.1522,   9.5046,   8.1080,   8.9520,  10.5880,\n",
       "          9.9639,   9.0412,   8.8872,   8.6118,   9.4407,  10.3788,\n",
       "          8.9694,   9.6160,   9.7623,  10.2834,   9.4963,   8.6079,\n",
       "          9.2707,   8.2117,  10.4497,  10.2704,   9.4789,   8.7756,\n",
       "         10.1714,   9.4739,   8.3535,  10.2218,   8.9809,  10.0803,\n",
       "         11.2655,   9.1832,  10.9781,  10.4953,   7.3280,   7.8022,\n",
       "         10.9309,   9.0138,  10.7755,  10.4596,   8.5571,   8.0252,\n",
       "          8.3558,  10.7697,  10.8007,   9.7196,   8.5060,   9.2499,\n",
       "         10.4003,   9.6283,   8.6217,  10.4636,  10.6020,  10.8626,\n",
       "          9.5498,  10.0606,  11.3227,   8.7364,   7.7602,   9.6232,\n",
       "          8.5531,  10.8600,  11.2623,   8.7766,   9.1223,   9.8680,\n",
       "          9.6495,  10.1807,   9.3009,   9.2156,  10.2648,   8.5073,\n",
       "          7.5733,  10.5409,  10.0818,   8.1765,  10.9217,   9.5742,\n",
       "         10.4109,   9.6021,  11.1312,  10.9586,  10.2763,   8.4893,\n",
       "          7.9619,   8.7347,   9.1703,   9.8750,  10.2327,   9.6479,\n",
       "         10.3361,   8.7347,   8.1607,   9.6088,  10.5875,   9.9236,\n",
       "         10.0588,   8.5109,  11.0898,  10.5955,  10.0857,   8.5189,\n",
       "         10.4534,  10.0157,   8.4595,  10.0451,   9.4817,   9.7761,\n",
       "          8.6497,  10.0075,  10.8017,   8.9352,   9.3738,   9.9417,\n",
       "         10.6120,  10.6563,  10.4566,   8.6358,   9.7818,   9.8091,\n",
       "          9.2995,   9.5530,  10.3608,   9.6504,  11.0487,  10.4376,\n",
       "          8.9899,   8.7235,   9.1157,   8.5021,  10.2681,  10.2118,\n",
       "          9.7512,   8.3607,  10.5623,   9.9351,   8.5216,   9.4186,\n",
       "         10.2596,   8.2372,   8.5987,  10.2695,  10.3264,   8.9288,\n",
       "          8.7178,  11.3994,  10.2498,  10.9626,  10.6078,   9.2330,\n",
       "         10.5551,  10.5353,   8.9828,   9.6975,   9.3738,  10.0164,\n",
       "          9.5620,   9.9798,   9.4146,   7.7598,  10.2441,  10.8947,\n",
       "          8.7176,   9.0257,   8.5805,  10.7993,   9.0992,   9.3235,\n",
       "         10.1867,  10.3765,  10.6518,   9.6176,   9.4811,   8.1276,\n",
       "         10.2984,   8.5694,   8.8614,   9.3243,  10.6073,   8.7727,\n",
       "          9.9058,   8.0210,  10.1561,  10.5548,   9.1916,  10.4421,\n",
       "         11.0344,  10.6276,   8.3895,   8.1810,  10.6928,   8.9117,\n",
       "         10.1714,   9.5835,   9.1427,   8.6169,  10.8076,  10.0169,\n",
       "         11.2330,   8.7415,  10.0452,   9.1114,   7.9945,   9.0154,\n",
       "         10.6260,   8.5466,  10.8307,   8.6732,  10.2491,   8.3655,\n",
       "         10.2546,  10.2964,  11.0466,   9.0603,  10.7561,  10.8982,\n",
       "         10.6154,   7.9537,   8.5365,   9.0779,   9.2880,   9.8462,\n",
       "         10.4388,   8.3430,   8.2279,   7.9936,  10.6376,   9.9535,\n",
       "          8.9086,  10.3974,   8.6297,   9.1040,   8.3863,   8.7015,\n",
       "          8.0844,   9.8465,   9.8213,   8.0300,  11.2822,   7.8232,\n",
       "          8.4547,  10.0407,  10.9131,   9.0979,  10.6842,  10.2066,\n",
       "         10.7741,   8.7122,  11.2874,   9.8665,   8.5127,   8.9574,\n",
       "          8.6761,   9.0077,   9.8112,   9.1705,  11.1304,  10.0733,\n",
       "         10.1923,   9.7680,  10.4832,   8.1502,  10.5109,   9.4149,\n",
       "          8.3680,  10.6611,  10.3449,  11.0291,  10.5117,   9.4327,\n",
       "          9.9953,   7.9263,   8.5635,   8.9252,   9.7613,   9.4734,\n",
       "         10.2871,   9.6847,   9.6673,   8.6656,   8.8201,  10.9658,\n",
       "         10.7107,   9.2366,  10.1597,   8.4311,   9.9795,  10.3055,\n",
       "          8.9497,  10.3536,   9.8839,   9.6628,   8.1745,   8.7724,\n",
       "          9.2589,  10.9849,  10.5680,   9.4589,   9.9982,   9.4410,\n",
       "         10.0022,   9.8103,   8.8294,   9.3220,  10.2817,  10.6450,\n",
       "          9.6853,   8.0779,  10.9792,  10.1436,   8.7989,  10.1748,\n",
       "          9.5554,   9.6319,  10.6133,   9.8570,   7.4352,   9.5532,\n",
       "         11.0509,   9.0325,   8.2132,  10.3943,   8.7169,   8.6572,\n",
       "          8.6965,   9.8786,  10.0654,  10.8977,  10.4509,  10.6751,\n",
       "          8.5784,   8.5835,   9.4063,   8.4793,  10.1851,   9.4507,\n",
       "          8.5706,   9.7989,  10.6436,   9.0885,   9.8536,   7.9530,\n",
       "         10.1266,  10.3935,  10.2568,   9.5792,   9.4131,   8.4815,\n",
       "         10.9457,   9.5346,  10.9544,   8.3702,   8.9816,  10.4072,\n",
       "         10.4909,   9.2323,   8.3577,  10.6916,   8.4449,  10.0267,\n",
       "          7.8783,   9.3356,  10.5341,   9.0511,   8.0600,   9.6710,\n",
       "          9.3361,   7.6873,   7.8348,  10.7579,   9.0356,   8.6012,\n",
       "          8.8248,   9.5441,  10.5072,   9.6251,   9.7830,  10.4531,\n",
       "         10.9740,  10.5971,  10.6084,   8.1577,   7.8729,   8.3022,\n",
       "          8.7790,  11.0998,   7.7763,   8.8733,   8.5096,   7.8074,\n",
       "          8.4509,   9.0905,   9.9190,   8.6216,  10.6976,   7.7712,\n",
       "          9.0979,   8.0199,   8.0083,   9.4591])"
      ]
     },
     "execution_count": 47,
     "metadata": {},
     "output_type": "execute_result"
    }
   ],
   "source": [
    "y.type(torch.FloatTensor)"
   ]
  },
  {
   "cell_type": "code",
   "execution_count": 48,
   "metadata": {},
   "outputs": [],
   "source": [
    "learning_rate = 0.1\n",
    "optimizer = torch.optim.Adam(model2.parameters(), lr=learning_rate)"
   ]
  },
  {
   "cell_type": "code",
   "execution_count": 53,
   "metadata": {},
   "outputs": [
    {
     "name": "stdout",
     "output_type": "stream",
     "text": [
      "66.77940368652344\n",
      "0.09414538741111755\n",
      "0.08888612687587738\n",
      "0.0886726826429367\n",
      "0.0898895189166069\n",
      "0.0961468517780304\n",
      "0.08361861854791641\n",
      "0.09119246155023575\n",
      "0.09324931353330612\n",
      "0.08303093165159225\n"
     ]
    }
   ],
   "source": [
    "for t in range(1000):\n",
    "    for i, (x, y) in enumerate(dataloader): \n",
    "        \n",
    "        y_hat = model2(x)\n",
    "        loss = F.mse_loss(y_hat, y.unsqueeze(1))\n",
    "    \n",
    "        optimizer.zero_grad()\n",
    "        loss.backward()\n",
    "    \n",
    "        optimizer.step()\n",
    "    if t % 100 == 0: print(loss.item())"
   ]
  },
  {
   "cell_type": "code",
   "execution_count": 55,
   "metadata": {},
   "outputs": [
    {
     "name": "stdout",
     "output_type": "stream",
     "text": [
      "[Parameter containing:\n",
      "tensor([[ 2.9743]]), Parameter containing:\n",
      "tensor([ 8.0027])]\n"
     ]
    }
   ],
   "source": [
    "print([p for p in model2.parameters()])"
   ]
  },
  {
   "cell_type": "markdown",
   "metadata": {},
   "source": [
    "# Two layer neural network"
   ]
  },
  {
   "cell_type": "code",
   "execution_count": 57,
   "metadata": {},
   "outputs": [],
   "source": [
    "# generating fake data\n",
    "# Here we generate some fake data\n",
    "def sigmoid(x):\n",
    "    return 1/(1 + np.exp(-x))\n",
    "\n",
    "def gen_nn_fake_data(n):\n",
    "    x = np.random.uniform(0,10, (n, 2))\n",
    "    x1 = x[:,0]\n",
    "    x2 = x[:,1]\n",
    "    score1 = sigmoid(-x1 - 8* x2 + 50)\n",
    "    score2 = sigmoid(-7*x1 - 2* x2 + 50)\n",
    "    score3 = 2* score1 + 3*score2 - 0.1\n",
    "    y = score3 < 0\n",
    "    return x, y.astype(int)\n",
    "\n",
    "x, y = gen_nn_fake_data(500)"
   ]
  },
  {
   "cell_type": "code",
   "execution_count": 58,
   "metadata": {},
   "outputs": [
    {
     "data": {
      "image/png": "[encoded data removed]",
      "text/plain": [
       "<Figure size 432x288 with 1 Axes>"
      ]
     },
     "metadata": {},
     "output_type": "display_data"
    }
   ],
   "source": [
    "import matplotlib.pyplot as plt\n",
    "plt.scatter(x[:,0],x[:,1],c=y, s=8);\n",
    "plt.xlabel(\"x1\"); plt.ylabel(\"x2\");"
   ]
  },
  {
   "cell_type": "code",
   "execution_count": 59,
   "metadata": {},
   "outputs": [
    {
     "data": {
      "text/plain": [
       "Sequential(\n",
       "  (0): Linear(in_features=2, out_features=2, bias=True)\n",
       "  (1): Sigmoid()\n",
       "  (2): Linear(in_features=2, out_features=1, bias=True)\n",
       ")"
      ]
     },
     "execution_count": 59,
     "metadata": {},
     "output_type": "execute_result"
    }
   ],
   "source": [
    "model = torch.nn.Sequential(\n",
    "    torch.nn.Linear(2, 2),\n",
    "    torch.nn.Sigmoid(),\n",
    "    torch.nn.Linear(2, 1)\n",
    ")\n",
    "model"
   ]
  },
  {
   "cell_type": "code",
   "execution_count": 60,
   "metadata": {},
   "outputs": [],
   "source": [
    "x, y = gen_nn_fake_data(10000)\n",
    "x = torch.tensor(x).float()\n",
    "y = torch.tensor(y).float()"
   ]
  },
  {
   "cell_type": "code",
   "execution_count": 61,
   "metadata": {},
   "outputs": [],
   "source": [
    "learning_rate = 0.01\n",
    "optimizer = torch.optim.Adam(model.parameters(), lr=learning_rate)"
   ]
  },
  {
   "cell_type": "code",
   "execution_count": 62,
   "metadata": {},
   "outputs": [
    {
     "name": "stdout",
     "output_type": "stream",
     "text": [
      "0.5484387874603271\n",
      "0.06604073196649551\n",
      "0.033071763813495636\n",
      "0.02129773423075676\n",
      "0.015205560252070427\n",
      "0.011383749544620514\n",
      "0.008728012442588806\n",
      "0.006742117460817099\n",
      "0.005282729864120483\n",
      "0.004185200668871403\n"
     ]
    }
   ],
   "source": [
    "for t in range(10000):\n",
    "    # Forward pass: compute predicted y using operations on Variables\n",
    "    y_hat = model(x)\n",
    "    loss = F.binary_cross_entropy(F.sigmoid(y_hat), y.unsqueeze(1))\n",
    "    if t % 1000 == 0: print(loss.item())\n",
    "       \n",
    "    # Before the backward pass, use the optimizer object to zero all of the\n",
    "    # gradients for the variables\n",
    "    optimizer.zero_grad()\n",
    "    loss.backward()\n",
    "    \n",
    "    # Calling the step function on an Optimizer makes an update to its\n",
    "    # parameters\n",
    "    optimizer.step()"
   ]
  },
  {
   "cell_type": "code",
   "execution_count": 63,
   "metadata": {},
   "outputs": [
    {
     "name": "stdout",
     "output_type": "stream",
     "text": [
      "[Parameter containing:\n",
      "tensor([[-5.0958, -1.3765],\n",
      "        [-0.5950, -5.5871]]), Parameter containing:\n",
      "tensor([ 37.7462,  35.7832]), Parameter containing:\n",
      "tensor([[-30.4255, -28.3379]]), Parameter containing:\n",
      "tensor([ 12.1224])]\n"
     ]
    }
   ],
   "source": [
    "print([p for p in model.parameters()])"
   ]
  },
  {
   "cell_type": "code",
   "execution_count": 65,
   "metadata": {},
   "outputs": [
    {
     "data": {
      "text/plain": [
       "array([  72.7843, -134.4691,  -45.7142])"
      ]
     },
     "execution_count": 65,
     "metadata": {},
     "output_type": "execute_result"
    }
   ],
   "source": [
    " np.array([72.7843, -134.4691, -45.7142])"
   ]
  },
  {
   "cell_type": "markdown",
   "metadata": {
    "collapsed": true
   },
   "source": [
    "# References\n",
    "* https://pytorch.org/docs/stable/index.html\n",
    "* http://pytorch.org/tutorials/beginner/pytorch_with_examples.html\n",
    "* https://hsaghir.github.io/data_science/pytorch_starter/"
   ]
  }
 ],
 "metadata": {
  "kernelspec": {
   "display_name": "Python 3",
   "language": "python",
   "name": "python3"
  },
  "language_info": {
   "codemirror_mode": {
    "name": "ipython",
    "version": 3
   },
   "file_extension": ".py",
   "mimetype": "text/x-python",
   "name": "python",
   "nbconvert_exporter": "python",
   "pygments_lexer": "ipython3",
   "version": "3.6.5"
  },
  "nav_menu": {},
  "toc": {
   "nav_menu": {
    "height": "116px",
    "width": "251px"
   },
   "number_sections": true,
   "sideBar": true,
   "skip_h1_title": false,
   "toc_cell": true,
   "toc_position": {},
   "toc_section_display": "block",
   "toc_window_display": false
  },
  "widgets": {
   "state": {},
   "version": "1.1.2"
  }
 },
 "nbformat": 4,
 "nbformat_minor": 1
}
